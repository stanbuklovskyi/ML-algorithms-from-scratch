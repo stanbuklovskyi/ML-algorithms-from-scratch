{
  "nbformat": 4,
  "nbformat_minor": 0,
  "metadata": {
    "colab": {
      "provenance": [],
      "authorship_tag": "ABX9TyMDFbDH22qUPfUAdhVvAUTQ",
      "include_colab_link": true
    },
    "kernelspec": {
      "name": "python3",
      "display_name": "Python 3"
    },
    "language_info": {
      "name": "python"
    }
  },
  "cells": [
    {
      "cell_type": "markdown",
      "metadata": {
        "id": "view-in-github",
        "colab_type": "text"
      },
      "source": [
        "<a href=\"https://colab.research.google.com/github/stanbuklovskyi/algorithms-from-scratch/blob/main/kmeans_clustering.ipynb\" target=\"_parent\"><img src=\"https://colab.research.google.com/assets/colab-badge.svg\" alt=\"Open In Colab\"/></a>"
      ]
    },
    {
      "cell_type": "markdown",
      "source": [
        "#This is an example of from scratch implementation of KNN clustering algorithm\n",
        "\n"
      ],
      "metadata": {
        "id": "ihEJ22pvoVmq"
      }
    },
    {
      "cell_type": "markdown",
      "source": [
        "## First, let's generate some random data to work with"
      ],
      "metadata": {
        "id": "ym_lihkwovNE"
      }
    },
    {
      "cell_type": "code",
      "execution_count": 2,
      "metadata": {
        "id": "RK_yOPxineXf"
      },
      "outputs": [],
      "source": [
        "# import necessary libraries\n",
        "import numpy as np\n",
        "import matplotlib.pyplot as plt\n",
        "import plotly.express as px\n",
        "from scipy.spatial.distance import cdist"
      ]
    },
    {
      "cell_type": "code",
      "source": [
        "# let's choose a random seed and generate some data\n",
        "np.random.seed(444)\n",
        "n = 50 # number of points\n",
        "# 50 points of 3D data\n",
        "X = np.random.random((n,3))\n",
        "# print(X)"
      ],
      "metadata": {
        "id": "rpMXRIvQo_7l"
      },
      "execution_count": 3,
      "outputs": []
    },
    {
      "cell_type": "code",
      "source": [
        "# 3d scatter plot of the data\n",
        "fig = px.scatter_3d(x=X[:,0], y=X[:,1], z=X[:,2])\n",
        "fig.show()"
      ],
      "metadata": {
        "colab": {
          "base_uri": "https://localhost:8080/",
          "height": 542
        },
        "id": "OAMzeHylpYez",
        "outputId": "bd2c8841-3d84-4747-a445-a0c7d73287de"
      },
      "execution_count": 4,
      "outputs": [
        {
          "output_type": "display_data",
          "data": {
            "text/html": [
              "<html>\n",
              "<head><meta charset=\"utf-8\" /></head>\n",
              "<body>\n",
              "    <div>            <script src=\"https://cdnjs.cloudflare.com/ajax/libs/mathjax/2.7.5/MathJax.js?config=TeX-AMS-MML_SVG\"></script><script type=\"text/javascript\">if (window.MathJax) {MathJax.Hub.Config({SVG: {font: \"STIX-Web\"}});}</script>                <script type=\"text/javascript\">window.PlotlyConfig = {MathJaxConfig: 'local'};</script>\n",
              "        <script src=\"https://cdn.plot.ly/plotly-2.8.3.min.js\"></script>                <div id=\"d8b792f0-5098-48d3-94da-62faf140bee4\" class=\"plotly-graph-div\" style=\"height:525px; width:100%;\"></div>            <script type=\"text/javascript\">                                    window.PLOTLYENV=window.PLOTLYENV || {};                                    if (document.getElementById(\"d8b792f0-5098-48d3-94da-62faf140bee4\")) {                    Plotly.newPlot(                        \"d8b792f0-5098-48d3-94da-62faf140bee4\",                        [{\"hovertemplate\":\"x=%{x}<br>y=%{y}<br>z=%{z}<extra></extra>\",\"legendgroup\":\"\",\"marker\":{\"color\":\"#636efa\",\"symbol\":\"circle\"},\"mode\":\"markers\",\"name\":\"\",\"scene\":\"scene\",\"showlegend\":false,\"x\":[0.839361047440404,0.6672226183206418,0.27650064004349884,0.19709288205874276,0.3473647276204168,0.4730117315460203,0.9177964409138277,0.5352167228571924,0.47489477928779233,0.7451481942057465,0.7575102081515509,0.05839691409703329,0.0947077672218416,0.91667411527992,0.8236976236900495,0.5373058090310184,0.009845319457074009,0.7067236940781643,0.21699443897495874,0.00680753384900612,0.49973398148925097,0.2700924178325822,0.5993658093070463,0.9448339407217731,0.1416584508170209,0.07851228176632408,0.7475887690821154,0.3947681834070468,0.48363388521998096,0.3984723215663216,0.5168612232287457,0.46114596383703077,0.912402307330262,0.3969467032185454,0.9992608531154752,0.9479057568299852,0.06983441569370641,0.4253075575755232,0.5394554374449908,0.7040722384608076,0.8632062773310116,0.9482627632559344,0.4764727697516652,0.40454070986987933,0.4102764708220089,0.3648054986218636,0.9632225547712481,0.25897007352845347,0.2752657598651216,0.008241108070267344],\"y\":[0.8212949650754298,0.03913990559568503,0.31636050352204015,0.8492042920461561,0.7397423008958642,0.13094798845057254,0.7548202843740357,0.709953250765113,0.9595680335253195,0.9656863879171239,0.2144666984428738,0.27697193573951906,0.7251815463124294,0.4672748193973095,0.9448564173785196,0.5274496061809855,0.5775040664044396,0.016160808219933487,0.20537507407229072,0.3879411804060101,0.27180781740356863,0.5322186517089008,0.752712964411597,0.5191440181569841,0.792112645980876,0.7487525182902984,0.9910148820067183,0.7036971605895418,0.3920886547755006,0.251906135887931,0.1870120088362741,0.39264167935494565,0.6970635767540716,0.6820162809031032,0.4569604162828924,0.17296866744630413,0.5621838239196194,0.17857383499507196,0.6784160424006962,0.35713974061907494,0.4585360169395061,0.9284317555231987,0.9239360638303906,0.7152473824348264,0.18218560691762287,0.32514509875225006,0.3206631018565762,0.7276557210930416,0.428833394913991,0.1420318812664093],\"z\":[0.6422071647956231,0.06567238839894496,0.19359241206374078,0.8423580878590328,0.49340914215266685,0.34895394419713865,0.09452912930474178,0.559057739543264,0.7848371011700699,0.6545515885808088,0.09938385471469835,0.9541960510539315,0.2519552021759772,0.8496421709508699,0.7163479448361566,0.39521150130957483,0.36663997286209216,0.3478209666570117,0.4582723975201919,0.3608983215464382,0.7257471148000736,0.5867643060238557,0.8762328618328383,0.01375532710284555,0.6936118616614869,0.15426033619070656,0.6745423459057367,0.7975764291121188,0.656167932886547,0.6730551700170507,0.8214109305002302,0.35769689274383987,0.0957471009769505,0.8032161696866013,0.320047924672745,0.30212578581717386,0.9662346392082334,0.6215811502869707,0.610245046631165,0.7554710745975945,0.09730297528957488,0.9441079303954247,0.15672911691643354,0.1976048156693343,0.6872027217313232,0.8403029706097807,0.4712370516978399,0.4063174858101394,0.6418211312699549,0.9266319433518302],\"type\":\"scatter3d\"}],                        {\"template\":{\"data\":{\"bar\":[{\"error_x\":{\"color\":\"#2a3f5f\"},\"error_y\":{\"color\":\"#2a3f5f\"},\"marker\":{\"line\":{\"color\":\"#E5ECF6\",\"width\":0.5},\"pattern\":{\"fillmode\":\"overlay\",\"size\":10,\"solidity\":0.2}},\"type\":\"bar\"}],\"barpolar\":[{\"marker\":{\"line\":{\"color\":\"#E5ECF6\",\"width\":0.5},\"pattern\":{\"fillmode\":\"overlay\",\"size\":10,\"solidity\":0.2}},\"type\":\"barpolar\"}],\"carpet\":[{\"aaxis\":{\"endlinecolor\":\"#2a3f5f\",\"gridcolor\":\"white\",\"linecolor\":\"white\",\"minorgridcolor\":\"white\",\"startlinecolor\":\"#2a3f5f\"},\"baxis\":{\"endlinecolor\":\"#2a3f5f\",\"gridcolor\":\"white\",\"linecolor\":\"white\",\"minorgridcolor\":\"white\",\"startlinecolor\":\"#2a3f5f\"},\"type\":\"carpet\"}],\"choropleth\":[{\"colorbar\":{\"outlinewidth\":0,\"ticks\":\"\"},\"type\":\"choropleth\"}],\"contour\":[{\"colorbar\":{\"outlinewidth\":0,\"ticks\":\"\"},\"colorscale\":[[0.0,\"#0d0887\"],[0.1111111111111111,\"#46039f\"],[0.2222222222222222,\"#7201a8\"],[0.3333333333333333,\"#9c179e\"],[0.4444444444444444,\"#bd3786\"],[0.5555555555555556,\"#d8576b\"],[0.6666666666666666,\"#ed7953\"],[0.7777777777777778,\"#fb9f3a\"],[0.8888888888888888,\"#fdca26\"],[1.0,\"#f0f921\"]],\"type\":\"contour\"}],\"contourcarpet\":[{\"colorbar\":{\"outlinewidth\":0,\"ticks\":\"\"},\"type\":\"contourcarpet\"}],\"heatmap\":[{\"colorbar\":{\"outlinewidth\":0,\"ticks\":\"\"},\"colorscale\":[[0.0,\"#0d0887\"],[0.1111111111111111,\"#46039f\"],[0.2222222222222222,\"#7201a8\"],[0.3333333333333333,\"#9c179e\"],[0.4444444444444444,\"#bd3786\"],[0.5555555555555556,\"#d8576b\"],[0.6666666666666666,\"#ed7953\"],[0.7777777777777778,\"#fb9f3a\"],[0.8888888888888888,\"#fdca26\"],[1.0,\"#f0f921\"]],\"type\":\"heatmap\"}],\"heatmapgl\":[{\"colorbar\":{\"outlinewidth\":0,\"ticks\":\"\"},\"colorscale\":[[0.0,\"#0d0887\"],[0.1111111111111111,\"#46039f\"],[0.2222222222222222,\"#7201a8\"],[0.3333333333333333,\"#9c179e\"],[0.4444444444444444,\"#bd3786\"],[0.5555555555555556,\"#d8576b\"],[0.6666666666666666,\"#ed7953\"],[0.7777777777777778,\"#fb9f3a\"],[0.8888888888888888,\"#fdca26\"],[1.0,\"#f0f921\"]],\"type\":\"heatmapgl\"}],\"histogram\":[{\"marker\":{\"pattern\":{\"fillmode\":\"overlay\",\"size\":10,\"solidity\":0.2}},\"type\":\"histogram\"}],\"histogram2d\":[{\"colorbar\":{\"outlinewidth\":0,\"ticks\":\"\"},\"colorscale\":[[0.0,\"#0d0887\"],[0.1111111111111111,\"#46039f\"],[0.2222222222222222,\"#7201a8\"],[0.3333333333333333,\"#9c179e\"],[0.4444444444444444,\"#bd3786\"],[0.5555555555555556,\"#d8576b\"],[0.6666666666666666,\"#ed7953\"],[0.7777777777777778,\"#fb9f3a\"],[0.8888888888888888,\"#fdca26\"],[1.0,\"#f0f921\"]],\"type\":\"histogram2d\"}],\"histogram2dcontour\":[{\"colorbar\":{\"outlinewidth\":0,\"ticks\":\"\"},\"colorscale\":[[0.0,\"#0d0887\"],[0.1111111111111111,\"#46039f\"],[0.2222222222222222,\"#7201a8\"],[0.3333333333333333,\"#9c179e\"],[0.4444444444444444,\"#bd3786\"],[0.5555555555555556,\"#d8576b\"],[0.6666666666666666,\"#ed7953\"],[0.7777777777777778,\"#fb9f3a\"],[0.8888888888888888,\"#fdca26\"],[1.0,\"#f0f921\"]],\"type\":\"histogram2dcontour\"}],\"mesh3d\":[{\"colorbar\":{\"outlinewidth\":0,\"ticks\":\"\"},\"type\":\"mesh3d\"}],\"parcoords\":[{\"line\":{\"colorbar\":{\"outlinewidth\":0,\"ticks\":\"\"}},\"type\":\"parcoords\"}],\"pie\":[{\"automargin\":true,\"type\":\"pie\"}],\"scatter\":[{\"marker\":{\"colorbar\":{\"outlinewidth\":0,\"ticks\":\"\"}},\"type\":\"scatter\"}],\"scatter3d\":[{\"line\":{\"colorbar\":{\"outlinewidth\":0,\"ticks\":\"\"}},\"marker\":{\"colorbar\":{\"outlinewidth\":0,\"ticks\":\"\"}},\"type\":\"scatter3d\"}],\"scattercarpet\":[{\"marker\":{\"colorbar\":{\"outlinewidth\":0,\"ticks\":\"\"}},\"type\":\"scattercarpet\"}],\"scattergeo\":[{\"marker\":{\"colorbar\":{\"outlinewidth\":0,\"ticks\":\"\"}},\"type\":\"scattergeo\"}],\"scattergl\":[{\"marker\":{\"colorbar\":{\"outlinewidth\":0,\"ticks\":\"\"}},\"type\":\"scattergl\"}],\"scattermapbox\":[{\"marker\":{\"colorbar\":{\"outlinewidth\":0,\"ticks\":\"\"}},\"type\":\"scattermapbox\"}],\"scatterpolar\":[{\"marker\":{\"colorbar\":{\"outlinewidth\":0,\"ticks\":\"\"}},\"type\":\"scatterpolar\"}],\"scatterpolargl\":[{\"marker\":{\"colorbar\":{\"outlinewidth\":0,\"ticks\":\"\"}},\"type\":\"scatterpolargl\"}],\"scatterternary\":[{\"marker\":{\"colorbar\":{\"outlinewidth\":0,\"ticks\":\"\"}},\"type\":\"scatterternary\"}],\"surface\":[{\"colorbar\":{\"outlinewidth\":0,\"ticks\":\"\"},\"colorscale\":[[0.0,\"#0d0887\"],[0.1111111111111111,\"#46039f\"],[0.2222222222222222,\"#7201a8\"],[0.3333333333333333,\"#9c179e\"],[0.4444444444444444,\"#bd3786\"],[0.5555555555555556,\"#d8576b\"],[0.6666666666666666,\"#ed7953\"],[0.7777777777777778,\"#fb9f3a\"],[0.8888888888888888,\"#fdca26\"],[1.0,\"#f0f921\"]],\"type\":\"surface\"}],\"table\":[{\"cells\":{\"fill\":{\"color\":\"#EBF0F8\"},\"line\":{\"color\":\"white\"}},\"header\":{\"fill\":{\"color\":\"#C8D4E3\"},\"line\":{\"color\":\"white\"}},\"type\":\"table\"}]},\"layout\":{\"annotationdefaults\":{\"arrowcolor\":\"#2a3f5f\",\"arrowhead\":0,\"arrowwidth\":1},\"autotypenumbers\":\"strict\",\"coloraxis\":{\"colorbar\":{\"outlinewidth\":0,\"ticks\":\"\"}},\"colorscale\":{\"diverging\":[[0,\"#8e0152\"],[0.1,\"#c51b7d\"],[0.2,\"#de77ae\"],[0.3,\"#f1b6da\"],[0.4,\"#fde0ef\"],[0.5,\"#f7f7f7\"],[0.6,\"#e6f5d0\"],[0.7,\"#b8e186\"],[0.8,\"#7fbc41\"],[0.9,\"#4d9221\"],[1,\"#276419\"]],\"sequential\":[[0.0,\"#0d0887\"],[0.1111111111111111,\"#46039f\"],[0.2222222222222222,\"#7201a8\"],[0.3333333333333333,\"#9c179e\"],[0.4444444444444444,\"#bd3786\"],[0.5555555555555556,\"#d8576b\"],[0.6666666666666666,\"#ed7953\"],[0.7777777777777778,\"#fb9f3a\"],[0.8888888888888888,\"#fdca26\"],[1.0,\"#f0f921\"]],\"sequentialminus\":[[0.0,\"#0d0887\"],[0.1111111111111111,\"#46039f\"],[0.2222222222222222,\"#7201a8\"],[0.3333333333333333,\"#9c179e\"],[0.4444444444444444,\"#bd3786\"],[0.5555555555555556,\"#d8576b\"],[0.6666666666666666,\"#ed7953\"],[0.7777777777777778,\"#fb9f3a\"],[0.8888888888888888,\"#fdca26\"],[1.0,\"#f0f921\"]]},\"colorway\":[\"#636efa\",\"#EF553B\",\"#00cc96\",\"#ab63fa\",\"#FFA15A\",\"#19d3f3\",\"#FF6692\",\"#B6E880\",\"#FF97FF\",\"#FECB52\"],\"font\":{\"color\":\"#2a3f5f\"},\"geo\":{\"bgcolor\":\"white\",\"lakecolor\":\"white\",\"landcolor\":\"#E5ECF6\",\"showlakes\":true,\"showland\":true,\"subunitcolor\":\"white\"},\"hoverlabel\":{\"align\":\"left\"},\"hovermode\":\"closest\",\"mapbox\":{\"style\":\"light\"},\"paper_bgcolor\":\"white\",\"plot_bgcolor\":\"#E5ECF6\",\"polar\":{\"angularaxis\":{\"gridcolor\":\"white\",\"linecolor\":\"white\",\"ticks\":\"\"},\"bgcolor\":\"#E5ECF6\",\"radialaxis\":{\"gridcolor\":\"white\",\"linecolor\":\"white\",\"ticks\":\"\"}},\"scene\":{\"xaxis\":{\"backgroundcolor\":\"#E5ECF6\",\"gridcolor\":\"white\",\"gridwidth\":2,\"linecolor\":\"white\",\"showbackground\":true,\"ticks\":\"\",\"zerolinecolor\":\"white\"},\"yaxis\":{\"backgroundcolor\":\"#E5ECF6\",\"gridcolor\":\"white\",\"gridwidth\":2,\"linecolor\":\"white\",\"showbackground\":true,\"ticks\":\"\",\"zerolinecolor\":\"white\"},\"zaxis\":{\"backgroundcolor\":\"#E5ECF6\",\"gridcolor\":\"white\",\"gridwidth\":2,\"linecolor\":\"white\",\"showbackground\":true,\"ticks\":\"\",\"zerolinecolor\":\"white\"}},\"shapedefaults\":{\"line\":{\"color\":\"#2a3f5f\"}},\"ternary\":{\"aaxis\":{\"gridcolor\":\"white\",\"linecolor\":\"white\",\"ticks\":\"\"},\"baxis\":{\"gridcolor\":\"white\",\"linecolor\":\"white\",\"ticks\":\"\"},\"bgcolor\":\"#E5ECF6\",\"caxis\":{\"gridcolor\":\"white\",\"linecolor\":\"white\",\"ticks\":\"\"}},\"title\":{\"x\":0.05},\"xaxis\":{\"automargin\":true,\"gridcolor\":\"white\",\"linecolor\":\"white\",\"ticks\":\"\",\"title\":{\"standoff\":15},\"zerolinecolor\":\"white\",\"zerolinewidth\":2},\"yaxis\":{\"automargin\":true,\"gridcolor\":\"white\",\"linecolor\":\"white\",\"ticks\":\"\",\"title\":{\"standoff\":15},\"zerolinecolor\":\"white\",\"zerolinewidth\":2}}},\"scene\":{\"domain\":{\"x\":[0.0,1.0],\"y\":[0.0,1.0]},\"xaxis\":{\"title\":{\"text\":\"x\"}},\"yaxis\":{\"title\":{\"text\":\"y\"}},\"zaxis\":{\"title\":{\"text\":\"z\"}}},\"legend\":{\"tracegroupgap\":0},\"margin\":{\"t\":60}},                        {\"responsive\": true}                    ).then(function(){\n",
              "                            \n",
              "var gd = document.getElementById('d8b792f0-5098-48d3-94da-62faf140bee4');\n",
              "var x = new MutationObserver(function (mutations, observer) {{\n",
              "        var display = window.getComputedStyle(gd).display;\n",
              "        if (!display || display === 'none') {{\n",
              "            console.log([gd, 'removed!']);\n",
              "            Plotly.purge(gd);\n",
              "            observer.disconnect();\n",
              "        }}\n",
              "}});\n",
              "\n",
              "// Listen for the removal of the full notebook cells\n",
              "var notebookContainer = gd.closest('#notebook-container');\n",
              "if (notebookContainer) {{\n",
              "    x.observe(notebookContainer, {childList: true});\n",
              "}}\n",
              "\n",
              "// Listen for the clearing of the current output cell\n",
              "var outputEl = gd.closest('.output');\n",
              "if (outputEl) {{\n",
              "    x.observe(outputEl, {childList: true});\n",
              "}}\n",
              "\n",
              "                        })                };                            </script>        </div>\n",
              "</body>\n",
              "</html>"
            ]
          },
          "metadata": {}
        }
      ]
    },
    {
      "cell_type": "markdown",
      "source": [
        "## Algorithm:\n",
        "1.   Initialize centers\n",
        "2.   While not converged: , \n",
        "*   Update cluster membership\n",
        "*   Update centers\n",
        "\n",
        "\n",
        "\n",
        "\n",
        "\n",
        "\n",
        "\n",
        "\n",
        "\n"
      ],
      "metadata": {
        "id": "AYlJdt_vq0TP"
      }
    },
    {
      "cell_type": "code",
      "source": [
        "# initialize centers (random pick of centers)\n",
        "k = 4 # number of clusters we want to initialze\n",
        "centers = X[np.random.choice(n, k, replace=False)]\n",
        "centers"
      ],
      "metadata": {
        "colab": {
          "base_uri": "https://localhost:8080/"
        },
        "id": "3eg44VAYpqeE",
        "outputId": "f4794a50-7dbf-4b64-d694-76b4e8eb92be"
      },
      "execution_count": 5,
      "outputs": [
        {
          "output_type": "execute_result",
          "data": {
            "text/plain": [
              "array([[0.91667412, 0.46727482, 0.84964217],\n",
              "       [0.39847232, 0.25190614, 0.67305517],\n",
              "       [0.94483394, 0.51914402, 0.01375533],\n",
              "       [0.47489478, 0.95956803, 0.7848371 ]])"
            ]
          },
          "metadata": {},
          "execution_count": 5
        }
      ]
    },
    {
      "cell_type": "code",
      "source": [
        "# now let's calculate distance from each point to the \"center\"\n",
        "# I'll use Euclidean distance for this case\n",
        "# (o-la,la. Fancy broadcasting for distance finding, although doesn't work fast for big chunks of data) \n",
        "(((X.reshape(n,1,3) - centers.reshape(1,k,3))**2).sum(axis=2))**0.5"
      ],
      "metadata": {
        "colab": {
          "base_uri": "https://localhost:8080/"
        },
        "id": "DEgPLcXksOuU",
        "outputId": "7ea401a5-a1d2-4f39-ca64-3af6d711ec3a"
      },
      "execution_count": 6,
      "outputs": [
        {
          "output_type": "execute_result",
          "data": {
            "text/plain": [
              "array([[0.41753665, 0.72078992, 0.70524566, 0.41508843],\n",
              "       [0.92743419, 0.69743102, 0.55692672, 1.1837972 ],\n",
              "       [0.92897712, 0.49891482, 0.72120173, 0.89590538],\n",
              "       [0.81469033, 0.65267315, 1.1638896 , 0.30440551],\n",
              "       [0.72474387, 0.52236846, 0.7973085 , 0.38667496],\n",
              "       [0.74875947, 0.35387653, 0.69690062, 0.93627392],\n",
              "       [0.8080095 , 0.92591175, 0.25059676, 0.84534527],\n",
              "       [0.53744011, 0.49142813, 0.70820135, 0.34193946],\n",
              "       [0.66462116, 0.72050049, 1.00468066, 0.        ],\n",
              "       [0.56204588, 0.79373093, 0.80616024, 0.30008108],\n",
              "       [0.8075473 , 0.67779694, 0.36776446, 1.05113921],\n",
              "       [0.88531715, 0.44194997, 1.31485614, 0.81736795],\n",
              "       [1.0485105 , 0.70255797, 0.90658985, 0.69530016],\n",
              "       [0.        , 0.58830242, 0.8379679 , 0.66462116],\n",
              "       [0.50447613, 0.81416885, 0.83038632, 0.35576765],\n",
              "       [0.59501979, 0.41520603, 0.55826246, 0.58517483],\n",
              "       [1.03333444, 0.59239787, 1.00106802, 0.73289338],\n",
              "       [0.70668773, 0.50633196, 0.64906737, 1.06524408],\n",
              "       [0.84339399, 0.28501053, 0.90873358, 0.86137339],\n",
              "       [1.03586755, 0.51898819, 1.00876954, 0.85181396],\n",
              "       [0.476861  , 0.11587252, 0.87534078, 0.69074071],\n",
              "       [0.70099241, 0.3201603 , 0.88531709, 0.51361886],\n",
              "       [0.427629  , 0.57658204, 0.95800323, 0.25813803],\n",
              "       [0.8379679 , 0.89699687, 0.        , 1.00468066],\n",
              "       [0.85470132, 0.5984973 , 1.08710977, 0.38393984],\n",
              "       [1.12485592, 0.78637067, 0.90717966, 0.7740732 ],\n",
              "       [0.57754087, 0.81741437, 0.83558797, 0.29583078],\n",
              "       [0.57531919, 0.46865168, 0.97519625, 0.2684259 ],\n",
              "       [0.48021774, 0.16489029, 0.80096349, 0.58194929],\n",
              "       [0.58830242, 0.        , 0.89699687, 0.72050049],\n",
              "       [0.48907524, 0.20059066, 0.97251216, 0.774559  ],\n",
              "       [0.67460074, 0.35097767, 0.60683828, 0.70996005],\n",
              "       [0.78814903, 0.89194943, 0.19856946, 0.85741848],\n",
              "       [0.5642569 , 0.44937618, 0.97465698, 0.28887483],\n",
              "       [0.53609423, 0.72636646, 0.31724477, 0.86232429],\n",
              "       [0.62238711, 0.6676053 , 0.45056002, 1.03705745],\n",
              "       [0.86008081, 0.53872936, 1.29409947, 0.59572911],\n",
              "       [0.61384133, 0.09352717, 0.86910756, 0.79941437],\n",
              "       [0.49415132, 0.45357695, 0.73857924, 0.33718972],\n",
              "       [0.25728873, 0.3335533 , 0.79646333, 0.64521665],\n",
              "       [0.75428737, 0.76822142, 0.13159261, 0.93515885],\n",
              "       [0.47179163, 0.91292171, 1.01640748, 0.50041374],\n",
              "       [0.93938555, 0.85105869, 0.63534266, 0.62911984],\n",
              "       [0.8654038 , 0.66390886, 0.60346826, 0.63990939],\n",
              "       [0.60340783, 0.0721141 , 0.92348473, 0.78614975],\n",
              "       [0.56995355, 0.1856589 , 1.02822643, 0.6462883 ],\n",
              "       [0.40847544, 0.60365628, 0.49902139, 0.86313876],\n",
              "       [0.83481111, 0.56298094, 0.81730742, 0.49364349],\n",
              "       [0.67533103, 0.21785013, 0.92246637, 0.58479447],\n",
              "       [0.96796742, 0.47817772, 1.36116252, 0.9519647 ]])"
            ]
          },
          "metadata": {},
          "execution_count": 6
        }
      ]
    },
    {
      "cell_type": "code",
      "source": [
        "# general distance solution\n",
        "# get memory for distances object\n",
        "distances = np.zeros((n,k))\n",
        "\n",
        "for i in range(k):\n",
        "    distances[:,i] = ((X - centers[i])**2).sum(axis=1)**0.5\n",
        "\n",
        "# distances"
      ],
      "metadata": {
        "id": "BS9SeHzmteFk"
      },
      "execution_count": 7,
      "outputs": []
    },
    {
      "cell_type": "code",
      "source": [
        "# using cdist is preferable if there is not need for...\n",
        "#... specific distance metrics\n",
        "distances = cdist(X, centers)\n",
        "\n",
        "# closest points for each cluster\n",
        "closest = np.argmin(distances, axis=1)\n",
        "closest"
      ],
      "metadata": {
        "colab": {
          "base_uri": "https://localhost:8080/"
        },
        "id": "RUvtS8GKvFkl",
        "outputId": "5e63cf8b-0201-4e90-d06b-9d682eb17b65"
      },
      "execution_count": 8,
      "outputs": [
        {
          "output_type": "execute_result",
          "data": {
            "text/plain": [
              "array([3, 2, 1, 3, 3, 1, 2, 3, 3, 3, 2, 1, 3, 0, 3, 1, 1, 1, 1, 1, 1, 1,\n",
              "       3, 2, 3, 3, 3, 3, 1, 1, 1, 1, 2, 3, 2, 2, 1, 1, 3, 0, 2, 0, 3, 2,\n",
              "       1, 1, 0, 3, 1, 1])"
            ]
          },
          "metadata": {},
          "execution_count": 8
        }
      ]
    },
    {
      "cell_type": "code",
      "source": [
        "# center of a prticular cluster\n",
        "X[closest == 0].mean(axis=0)"
      ],
      "metadata": {
        "id": "cNW1iB18v0wW",
        "colab": {
          "base_uri": "https://localhost:8080/"
        },
        "outputId": "92bf2bf4-9ab0-42a3-ff5f-d919f5e1d578"
      },
      "execution_count": 12,
      "outputs": [
        {
          "output_type": "execute_result",
          "data": {
            "text/plain": [
              "array([0.88305792, 0.51837735, 0.75511456])"
            ]
          },
          "metadata": {},
          "execution_count": 12
        }
      ]
    },
    {
      "cell_type": "code",
      "source": [
        "# reassign centers to centers of each cluster\n",
        "for i in range(k):\n",
        "    centers[i,:] = X[closest == 0].mean(axis=0)"
      ],
      "metadata": {
        "id": "gTXAB2eJnOtN"
      },
      "execution_count": 13,
      "outputs": []
    },
    {
      "cell_type": "markdown",
      "source": [
        "## All code pieces together"
      ],
      "metadata": {
        "id": "1UjYj63En4FH"
      }
    },
    {
      "cell_type": "code",
      "source": [
        "np.random.seed(666666666)\n",
        "centers = X[np.random.choice(n, k, replace=False)]\n",
        "closest = np.zeros(n).astype(int)\n",
        "\n",
        "# convergence loop\n",
        "while True:\n",
        "    old_closest = closest.copy()\n",
        "    print(closest)\n",
        "    distances = cdist(X, centers)\n",
        "    closest = np.argmin(distances, axis=1)\n",
        "\n",
        "    for i in range(k):\n",
        "        centers[i,:] = X[closest == i].mean(axis=0)\n",
        "    # repeat until no change\n",
        "    if all(closest == old_closest):\n",
        "        break"
      ],
      "metadata": {
        "colab": {
          "base_uri": "https://localhost:8080/"
        },
        "id": "6HQjT1HynfDd",
        "outputId": "91e4b4b9-ca9d-46cb-a37d-0971faf20d23"
      },
      "execution_count": 20,
      "outputs": [
        {
          "output_type": "stream",
          "name": "stdout",
          "text": [
            "[0 0 0 0 0 0 0 0 0 0 0 0 0 0 0 0 0 0 0 0 0 0 0 0 0 0 0 0 0 0 0 0 0 0 0 0 0\n",
            " 0 0 0 0 0 0 0 0 0 0 0 0 0]\n",
            "[2 1 1 2 2 1 3 2 2 2 1 0 2 2 2 2 2 1 0 0 0 2 2 3 2 2 2 2 0 0 0 2 3 2 3 1 0\n",
            " 0 2 0 3 2 3 2 0 0 1 2 0 0]\n",
            "[2 1 1 2 2 1 3 2 2 2 1 0 2 2 2 2 2 1 0 0 0 0 2 3 2 2 2 2 0 0 0 1 3 2 3 1 0\n",
            " 0 2 0 3 2 3 2 0 0 1 2 0 0]\n",
            "[2 1 1 2 2 1 3 2 2 2 1 0 2 2 2 2 0 1 0 0 0 0 2 3 2 2 2 2 0 0 0 1 3 2 3 1 0\n",
            " 0 2 0 3 2 3 2 0 0 1 2 0 0]\n"
          ]
        }
      ]
    },
    {
      "cell_type": "code",
      "source": [
        "# visualize results\n",
        "# 3d scatter plot of the data\n",
        "fig = px.scatter_3d(x=X[:,0], y=X[:,1], z=X[:,2], color=closest)\n",
        "fig.show()"
      ],
      "metadata": {
        "colab": {
          "base_uri": "https://localhost:8080/",
          "height": 542
        },
        "id": "L320MsM4oYZ-",
        "outputId": "3eead282-6b07-4ff0-f864-fb6d2c5ec0e9"
      },
      "execution_count": 22,
      "outputs": [
        {
          "output_type": "display_data",
          "data": {
            "text/html": [
              "<html>\n",
              "<head><meta charset=\"utf-8\" /></head>\n",
              "<body>\n",
              "    <div>            <script src=\"https://cdnjs.cloudflare.com/ajax/libs/mathjax/2.7.5/MathJax.js?config=TeX-AMS-MML_SVG\"></script><script type=\"text/javascript\">if (window.MathJax) {MathJax.Hub.Config({SVG: {font: \"STIX-Web\"}});}</script>                <script type=\"text/javascript\">window.PlotlyConfig = {MathJaxConfig: 'local'};</script>\n",
              "        <script src=\"https://cdn.plot.ly/plotly-2.8.3.min.js\"></script>                <div id=\"a692662c-bdcd-44af-bb9d-a28f511247da\" class=\"plotly-graph-div\" style=\"height:525px; width:100%;\"></div>            <script type=\"text/javascript\">                                    window.PLOTLYENV=window.PLOTLYENV || {};                                    if (document.getElementById(\"a692662c-bdcd-44af-bb9d-a28f511247da\")) {                    Plotly.newPlot(                        \"a692662c-bdcd-44af-bb9d-a28f511247da\",                        [{\"hovertemplate\":\"x=%{x}<br>y=%{y}<br>z=%{z}<br>color=%{marker.color}<extra></extra>\",\"legendgroup\":\"\",\"marker\":{\"color\":[2,1,1,2,2,1,3,2,2,2,1,0,2,2,2,2,0,1,0,0,0,0,2,3,2,2,2,2,0,0,0,1,3,2,3,1,0,0,2,0,3,2,3,2,0,0,1,2,0,0],\"coloraxis\":\"coloraxis\",\"symbol\":\"circle\"},\"mode\":\"markers\",\"name\":\"\",\"scene\":\"scene\",\"showlegend\":false,\"x\":[0.839361047440404,0.6672226183206418,0.27650064004349884,0.19709288205874276,0.3473647276204168,0.4730117315460203,0.9177964409138277,0.5352167228571924,0.47489477928779233,0.7451481942057465,0.7575102081515509,0.05839691409703329,0.0947077672218416,0.91667411527992,0.8236976236900495,0.5373058090310184,0.009845319457074009,0.7067236940781643,0.21699443897495874,0.00680753384900612,0.49973398148925097,0.2700924178325822,0.5993658093070463,0.9448339407217731,0.1416584508170209,0.07851228176632408,0.7475887690821154,0.3947681834070468,0.48363388521998096,0.3984723215663216,0.5168612232287457,0.46114596383703077,0.912402307330262,0.3969467032185454,0.9992608531154752,0.9479057568299852,0.06983441569370641,0.4253075575755232,0.5394554374449908,0.7040722384608076,0.8632062773310116,0.9482627632559344,0.4764727697516652,0.40454070986987933,0.4102764708220089,0.3648054986218636,0.9632225547712481,0.25897007352845347,0.2752657598651216,0.008241108070267344],\"y\":[0.8212949650754298,0.03913990559568503,0.31636050352204015,0.8492042920461561,0.7397423008958642,0.13094798845057254,0.7548202843740357,0.709953250765113,0.9595680335253195,0.9656863879171239,0.2144666984428738,0.27697193573951906,0.7251815463124294,0.4672748193973095,0.9448564173785196,0.5274496061809855,0.5775040664044396,0.016160808219933487,0.20537507407229072,0.3879411804060101,0.27180781740356863,0.5322186517089008,0.752712964411597,0.5191440181569841,0.792112645980876,0.7487525182902984,0.9910148820067183,0.7036971605895418,0.3920886547755006,0.251906135887931,0.1870120088362741,0.39264167935494565,0.6970635767540716,0.6820162809031032,0.4569604162828924,0.17296866744630413,0.5621838239196194,0.17857383499507196,0.6784160424006962,0.35713974061907494,0.4585360169395061,0.9284317555231987,0.9239360638303906,0.7152473824348264,0.18218560691762287,0.32514509875225006,0.3206631018565762,0.7276557210930416,0.428833394913991,0.1420318812664093],\"z\":[0.6422071647956231,0.06567238839894496,0.19359241206374078,0.8423580878590328,0.49340914215266685,0.34895394419713865,0.09452912930474178,0.559057739543264,0.7848371011700699,0.6545515885808088,0.09938385471469835,0.9541960510539315,0.2519552021759772,0.8496421709508699,0.7163479448361566,0.39521150130957483,0.36663997286209216,0.3478209666570117,0.4582723975201919,0.3608983215464382,0.7257471148000736,0.5867643060238557,0.8762328618328383,0.01375532710284555,0.6936118616614869,0.15426033619070656,0.6745423459057367,0.7975764291121188,0.656167932886547,0.6730551700170507,0.8214109305002302,0.35769689274383987,0.0957471009769505,0.8032161696866013,0.320047924672745,0.30212578581717386,0.9662346392082334,0.6215811502869707,0.610245046631165,0.7554710745975945,0.09730297528957488,0.9441079303954247,0.15672911691643354,0.1976048156693343,0.6872027217313232,0.8403029706097807,0.4712370516978399,0.4063174858101394,0.6418211312699549,0.9266319433518302],\"type\":\"scatter3d\"}],                        {\"template\":{\"data\":{\"bar\":[{\"error_x\":{\"color\":\"#2a3f5f\"},\"error_y\":{\"color\":\"#2a3f5f\"},\"marker\":{\"line\":{\"color\":\"#E5ECF6\",\"width\":0.5},\"pattern\":{\"fillmode\":\"overlay\",\"size\":10,\"solidity\":0.2}},\"type\":\"bar\"}],\"barpolar\":[{\"marker\":{\"line\":{\"color\":\"#E5ECF6\",\"width\":0.5},\"pattern\":{\"fillmode\":\"overlay\",\"size\":10,\"solidity\":0.2}},\"type\":\"barpolar\"}],\"carpet\":[{\"aaxis\":{\"endlinecolor\":\"#2a3f5f\",\"gridcolor\":\"white\",\"linecolor\":\"white\",\"minorgridcolor\":\"white\",\"startlinecolor\":\"#2a3f5f\"},\"baxis\":{\"endlinecolor\":\"#2a3f5f\",\"gridcolor\":\"white\",\"linecolor\":\"white\",\"minorgridcolor\":\"white\",\"startlinecolor\":\"#2a3f5f\"},\"type\":\"carpet\"}],\"choropleth\":[{\"colorbar\":{\"outlinewidth\":0,\"ticks\":\"\"},\"type\":\"choropleth\"}],\"contour\":[{\"colorbar\":{\"outlinewidth\":0,\"ticks\":\"\"},\"colorscale\":[[0.0,\"#0d0887\"],[0.1111111111111111,\"#46039f\"],[0.2222222222222222,\"#7201a8\"],[0.3333333333333333,\"#9c179e\"],[0.4444444444444444,\"#bd3786\"],[0.5555555555555556,\"#d8576b\"],[0.6666666666666666,\"#ed7953\"],[0.7777777777777778,\"#fb9f3a\"],[0.8888888888888888,\"#fdca26\"],[1.0,\"#f0f921\"]],\"type\":\"contour\"}],\"contourcarpet\":[{\"colorbar\":{\"outlinewidth\":0,\"ticks\":\"\"},\"type\":\"contourcarpet\"}],\"heatmap\":[{\"colorbar\":{\"outlinewidth\":0,\"ticks\":\"\"},\"colorscale\":[[0.0,\"#0d0887\"],[0.1111111111111111,\"#46039f\"],[0.2222222222222222,\"#7201a8\"],[0.3333333333333333,\"#9c179e\"],[0.4444444444444444,\"#bd3786\"],[0.5555555555555556,\"#d8576b\"],[0.6666666666666666,\"#ed7953\"],[0.7777777777777778,\"#fb9f3a\"],[0.8888888888888888,\"#fdca26\"],[1.0,\"#f0f921\"]],\"type\":\"heatmap\"}],\"heatmapgl\":[{\"colorbar\":{\"outlinewidth\":0,\"ticks\":\"\"},\"colorscale\":[[0.0,\"#0d0887\"],[0.1111111111111111,\"#46039f\"],[0.2222222222222222,\"#7201a8\"],[0.3333333333333333,\"#9c179e\"],[0.4444444444444444,\"#bd3786\"],[0.5555555555555556,\"#d8576b\"],[0.6666666666666666,\"#ed7953\"],[0.7777777777777778,\"#fb9f3a\"],[0.8888888888888888,\"#fdca26\"],[1.0,\"#f0f921\"]],\"type\":\"heatmapgl\"}],\"histogram\":[{\"marker\":{\"pattern\":{\"fillmode\":\"overlay\",\"size\":10,\"solidity\":0.2}},\"type\":\"histogram\"}],\"histogram2d\":[{\"colorbar\":{\"outlinewidth\":0,\"ticks\":\"\"},\"colorscale\":[[0.0,\"#0d0887\"],[0.1111111111111111,\"#46039f\"],[0.2222222222222222,\"#7201a8\"],[0.3333333333333333,\"#9c179e\"],[0.4444444444444444,\"#bd3786\"],[0.5555555555555556,\"#d8576b\"],[0.6666666666666666,\"#ed7953\"],[0.7777777777777778,\"#fb9f3a\"],[0.8888888888888888,\"#fdca26\"],[1.0,\"#f0f921\"]],\"type\":\"histogram2d\"}],\"histogram2dcontour\":[{\"colorbar\":{\"outlinewidth\":0,\"ticks\":\"\"},\"colorscale\":[[0.0,\"#0d0887\"],[0.1111111111111111,\"#46039f\"],[0.2222222222222222,\"#7201a8\"],[0.3333333333333333,\"#9c179e\"],[0.4444444444444444,\"#bd3786\"],[0.5555555555555556,\"#d8576b\"],[0.6666666666666666,\"#ed7953\"],[0.7777777777777778,\"#fb9f3a\"],[0.8888888888888888,\"#fdca26\"],[1.0,\"#f0f921\"]],\"type\":\"histogram2dcontour\"}],\"mesh3d\":[{\"colorbar\":{\"outlinewidth\":0,\"ticks\":\"\"},\"type\":\"mesh3d\"}],\"parcoords\":[{\"line\":{\"colorbar\":{\"outlinewidth\":0,\"ticks\":\"\"}},\"type\":\"parcoords\"}],\"pie\":[{\"automargin\":true,\"type\":\"pie\"}],\"scatter\":[{\"marker\":{\"colorbar\":{\"outlinewidth\":0,\"ticks\":\"\"}},\"type\":\"scatter\"}],\"scatter3d\":[{\"line\":{\"colorbar\":{\"outlinewidth\":0,\"ticks\":\"\"}},\"marker\":{\"colorbar\":{\"outlinewidth\":0,\"ticks\":\"\"}},\"type\":\"scatter3d\"}],\"scattercarpet\":[{\"marker\":{\"colorbar\":{\"outlinewidth\":0,\"ticks\":\"\"}},\"type\":\"scattercarpet\"}],\"scattergeo\":[{\"marker\":{\"colorbar\":{\"outlinewidth\":0,\"ticks\":\"\"}},\"type\":\"scattergeo\"}],\"scattergl\":[{\"marker\":{\"colorbar\":{\"outlinewidth\":0,\"ticks\":\"\"}},\"type\":\"scattergl\"}],\"scattermapbox\":[{\"marker\":{\"colorbar\":{\"outlinewidth\":0,\"ticks\":\"\"}},\"type\":\"scattermapbox\"}],\"scatterpolar\":[{\"marker\":{\"colorbar\":{\"outlinewidth\":0,\"ticks\":\"\"}},\"type\":\"scatterpolar\"}],\"scatterpolargl\":[{\"marker\":{\"colorbar\":{\"outlinewidth\":0,\"ticks\":\"\"}},\"type\":\"scatterpolargl\"}],\"scatterternary\":[{\"marker\":{\"colorbar\":{\"outlinewidth\":0,\"ticks\":\"\"}},\"type\":\"scatterternary\"}],\"surface\":[{\"colorbar\":{\"outlinewidth\":0,\"ticks\":\"\"},\"colorscale\":[[0.0,\"#0d0887\"],[0.1111111111111111,\"#46039f\"],[0.2222222222222222,\"#7201a8\"],[0.3333333333333333,\"#9c179e\"],[0.4444444444444444,\"#bd3786\"],[0.5555555555555556,\"#d8576b\"],[0.6666666666666666,\"#ed7953\"],[0.7777777777777778,\"#fb9f3a\"],[0.8888888888888888,\"#fdca26\"],[1.0,\"#f0f921\"]],\"type\":\"surface\"}],\"table\":[{\"cells\":{\"fill\":{\"color\":\"#EBF0F8\"},\"line\":{\"color\":\"white\"}},\"header\":{\"fill\":{\"color\":\"#C8D4E3\"},\"line\":{\"color\":\"white\"}},\"type\":\"table\"}]},\"layout\":{\"annotationdefaults\":{\"arrowcolor\":\"#2a3f5f\",\"arrowhead\":0,\"arrowwidth\":1},\"autotypenumbers\":\"strict\",\"coloraxis\":{\"colorbar\":{\"outlinewidth\":0,\"ticks\":\"\"}},\"colorscale\":{\"diverging\":[[0,\"#8e0152\"],[0.1,\"#c51b7d\"],[0.2,\"#de77ae\"],[0.3,\"#f1b6da\"],[0.4,\"#fde0ef\"],[0.5,\"#f7f7f7\"],[0.6,\"#e6f5d0\"],[0.7,\"#b8e186\"],[0.8,\"#7fbc41\"],[0.9,\"#4d9221\"],[1,\"#276419\"]],\"sequential\":[[0.0,\"#0d0887\"],[0.1111111111111111,\"#46039f\"],[0.2222222222222222,\"#7201a8\"],[0.3333333333333333,\"#9c179e\"],[0.4444444444444444,\"#bd3786\"],[0.5555555555555556,\"#d8576b\"],[0.6666666666666666,\"#ed7953\"],[0.7777777777777778,\"#fb9f3a\"],[0.8888888888888888,\"#fdca26\"],[1.0,\"#f0f921\"]],\"sequentialminus\":[[0.0,\"#0d0887\"],[0.1111111111111111,\"#46039f\"],[0.2222222222222222,\"#7201a8\"],[0.3333333333333333,\"#9c179e\"],[0.4444444444444444,\"#bd3786\"],[0.5555555555555556,\"#d8576b\"],[0.6666666666666666,\"#ed7953\"],[0.7777777777777778,\"#fb9f3a\"],[0.8888888888888888,\"#fdca26\"],[1.0,\"#f0f921\"]]},\"colorway\":[\"#636efa\",\"#EF553B\",\"#00cc96\",\"#ab63fa\",\"#FFA15A\",\"#19d3f3\",\"#FF6692\",\"#B6E880\",\"#FF97FF\",\"#FECB52\"],\"font\":{\"color\":\"#2a3f5f\"},\"geo\":{\"bgcolor\":\"white\",\"lakecolor\":\"white\",\"landcolor\":\"#E5ECF6\",\"showlakes\":true,\"showland\":true,\"subunitcolor\":\"white\"},\"hoverlabel\":{\"align\":\"left\"},\"hovermode\":\"closest\",\"mapbox\":{\"style\":\"light\"},\"paper_bgcolor\":\"white\",\"plot_bgcolor\":\"#E5ECF6\",\"polar\":{\"angularaxis\":{\"gridcolor\":\"white\",\"linecolor\":\"white\",\"ticks\":\"\"},\"bgcolor\":\"#E5ECF6\",\"radialaxis\":{\"gridcolor\":\"white\",\"linecolor\":\"white\",\"ticks\":\"\"}},\"scene\":{\"xaxis\":{\"backgroundcolor\":\"#E5ECF6\",\"gridcolor\":\"white\",\"gridwidth\":2,\"linecolor\":\"white\",\"showbackground\":true,\"ticks\":\"\",\"zerolinecolor\":\"white\"},\"yaxis\":{\"backgroundcolor\":\"#E5ECF6\",\"gridcolor\":\"white\",\"gridwidth\":2,\"linecolor\":\"white\",\"showbackground\":true,\"ticks\":\"\",\"zerolinecolor\":\"white\"},\"zaxis\":{\"backgroundcolor\":\"#E5ECF6\",\"gridcolor\":\"white\",\"gridwidth\":2,\"linecolor\":\"white\",\"showbackground\":true,\"ticks\":\"\",\"zerolinecolor\":\"white\"}},\"shapedefaults\":{\"line\":{\"color\":\"#2a3f5f\"}},\"ternary\":{\"aaxis\":{\"gridcolor\":\"white\",\"linecolor\":\"white\",\"ticks\":\"\"},\"baxis\":{\"gridcolor\":\"white\",\"linecolor\":\"white\",\"ticks\":\"\"},\"bgcolor\":\"#E5ECF6\",\"caxis\":{\"gridcolor\":\"white\",\"linecolor\":\"white\",\"ticks\":\"\"}},\"title\":{\"x\":0.05},\"xaxis\":{\"automargin\":true,\"gridcolor\":\"white\",\"linecolor\":\"white\",\"ticks\":\"\",\"title\":{\"standoff\":15},\"zerolinecolor\":\"white\",\"zerolinewidth\":2},\"yaxis\":{\"automargin\":true,\"gridcolor\":\"white\",\"linecolor\":\"white\",\"ticks\":\"\",\"title\":{\"standoff\":15},\"zerolinecolor\":\"white\",\"zerolinewidth\":2}}},\"scene\":{\"domain\":{\"x\":[0.0,1.0],\"y\":[0.0,1.0]},\"xaxis\":{\"title\":{\"text\":\"x\"}},\"yaxis\":{\"title\":{\"text\":\"y\"}},\"zaxis\":{\"title\":{\"text\":\"z\"}}},\"coloraxis\":{\"colorbar\":{\"title\":{\"text\":\"color\"}},\"colorscale\":[[0.0,\"#0d0887\"],[0.1111111111111111,\"#46039f\"],[0.2222222222222222,\"#7201a8\"],[0.3333333333333333,\"#9c179e\"],[0.4444444444444444,\"#bd3786\"],[0.5555555555555556,\"#d8576b\"],[0.6666666666666666,\"#ed7953\"],[0.7777777777777778,\"#fb9f3a\"],[0.8888888888888888,\"#fdca26\"],[1.0,\"#f0f921\"]]},\"legend\":{\"tracegroupgap\":0},\"margin\":{\"t\":60}},                        {\"responsive\": true}                    ).then(function(){\n",
              "                            \n",
              "var gd = document.getElementById('a692662c-bdcd-44af-bb9d-a28f511247da');\n",
              "var x = new MutationObserver(function (mutations, observer) {{\n",
              "        var display = window.getComputedStyle(gd).display;\n",
              "        if (!display || display === 'none') {{\n",
              "            console.log([gd, 'removed!']);\n",
              "            Plotly.purge(gd);\n",
              "            observer.disconnect();\n",
              "        }}\n",
              "}});\n",
              "\n",
              "// Listen for the removal of the full notebook cells\n",
              "var notebookContainer = gd.closest('#notebook-container');\n",
              "if (notebookContainer) {{\n",
              "    x.observe(notebookContainer, {childList: true});\n",
              "}}\n",
              "\n",
              "// Listen for the clearing of the current output cell\n",
              "var outputEl = gd.closest('.output');\n",
              "if (outputEl) {{\n",
              "    x.observe(outputEl, {childList: true});\n",
              "}}\n",
              "\n",
              "                        })                };                            </script>        </div>\n",
              "</body>\n",
              "</html>"
            ]
          },
          "metadata": {}
        }
      ]
    },
    {
      "cell_type": "markdown",
      "source": [
        "## Last part is wrapping up this whole alorithm into a function"
      ],
      "metadata": {
        "id": "q4kT1M7xp2Ps"
      }
    },
    {
      "cell_type": "code",
      "source": [
        "def kmeans(X, k):\n",
        "    n = X.shape[0]\n",
        "    centers = X[np.random.choice(n, k, replace=False)]\n",
        "    closest = np.zeros(n).astype(int)\n",
        "\n",
        "    # convergence loop\n",
        "    while True:\n",
        "        old_closest = closest.copy()\n",
        "        distances = cdist(X, centers)\n",
        "        closest = np.argmin(distances, axis=1)\n",
        "\n",
        "        for i in range(k):\n",
        "            centers[i,:] = X[closest == i].mean(axis=0)\n",
        "        # repeat until no change\n",
        "        if all(closest == old_closest):\n",
        "            break\n",
        "    return closest, centers"
      ],
      "metadata": {
        "id": "r9FfYO1Ppmv9"
      },
      "execution_count": 23,
      "outputs": []
    },
    {
      "cell_type": "code",
      "source": [
        "# check if the function work\n",
        "labels, centers = kmeans(X, 4)\n",
        "print(labels)\n",
        "print(centers)"
      ],
      "metadata": {
        "colab": {
          "base_uri": "https://localhost:8080/"
        },
        "id": "NS8x2uxYqNf9",
        "outputId": "e48cb6b2-3c00-49d0-feb1-a024515fdf4d"
      },
      "execution_count": 24,
      "outputs": [
        {
          "output_type": "stream",
          "name": "stdout",
          "text": [
            "[3 1 0 2 0 1 1 3 3 3 1 2 0 3 3 0 0 1 2 0 2 2 3 1 0 0 3 2 2 2 2 0 1 2 1 1 2\n",
            " 2 3 2 1 3 0 0 2 2 1 0 2 2]\n",
            "[[0.25781934 0.63121043 0.33566059]\n",
            " [0.83209967 0.34371559 0.20514331]\n",
            " [0.33475271 0.38402302 0.75047119]\n",
            " [0.71696653 0.82192095 0.73117719]]\n"
          ]
        }
      ]
    },
    {
      "cell_type": "code",
      "source": [],
      "metadata": {
        "id": "imGM4uPsqVIM"
      },
      "execution_count": null,
      "outputs": []
    }
  ]
}
