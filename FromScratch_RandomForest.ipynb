{
  "nbformat": 4,
  "nbformat_minor": 0,
  "metadata": {
    "colab": {
      "provenance": [],
      "mount_file_id": "1Tc2mtFeULxsFXkaEmB21cgWJBRl-vpLR",
      "authorship_tag": "ABX9TyN8MCPgu7iBJMdOCJm6fSrq",
      "include_colab_link": true
    },
    "kernelspec": {
      "name": "python3",
      "display_name": "Python 3"
    },
    "language_info": {
      "name": "python"
    }
  },
  "cells": [
    {
      "cell_type": "markdown",
      "metadata": {
        "id": "view-in-github",
        "colab_type": "text"
      },
      "source": [
        "<a href=\"https://colab.research.google.com/github/stanbuklovskyi/algorithms-from-scratch/blob/main/FromScratch_RandomForest.ipynb\" target=\"_parent\"><img src=\"https://colab.research.google.com/assets/colab-badge.svg\" alt=\"Open In Colab\"/></a>"
      ]
    },
    {
      "cell_type": "markdown",
      "source": [
        "# This is an OOP style code for Random Forest ML algorithm\n",
        "This code uses FromScratch_DecisionTree (my own implementation of\n",
        "DecisionTree class that can be found in the same repository)\n",
        "\n",
        "To use in this code:\n",
        "- Download \"FromScratch_DecisionTree.py\" file to your google drive \n",
        "- Move to you working directory so it can be imported "
      ],
      "metadata": {
        "id": "GwV17_8LWTGI"
      }
    },
    {
      "cell_type": "code",
      "source": [
        "# acess the drive\n",
        "from google.colab import drive\n",
        "drive.mount('/content/drive')"
      ],
      "metadata": {
        "colab": {
          "base_uri": "https://localhost:8080/"
        },
        "id": "WVtAr86RXLZR",
        "outputId": "72538020-80d0-4640-ce1a-1c9d1df087a7"
      },
      "execution_count": 1,
      "outputs": [
        {
          "output_type": "stream",
          "name": "stdout",
          "text": [
            "Drive already mounted at /content/drive; to attempt to forcibly remount, call drive.mount(\"/content/drive\", force_remount=True).\n"
          ]
        }
      ]
    },
    {
      "cell_type": "code",
      "source": [
        "# move .py file with our classes\n",
        "!cp /content/drive/MyDrive/Colab\\ Notebooks/FromScratch_DecisionTree.py /content"
      ],
      "metadata": {
        "id": "t2sKJkmse7Nv"
      },
      "execution_count": 2,
      "outputs": []
    },
    {
      "cell_type": "code",
      "source": [
        "# import needed libraries and classes from the file\n",
        "from FromScratch_DecisionTree import DecisionTree\n",
        "import numpy as np\n",
        "from collections import Counter"
      ],
      "metadata": {
        "id": "ngnXskT9gVfl"
      },
      "execution_count": 3,
      "outputs": []
    },
    {
      "cell_type": "code",
      "source": [
        "# def bootstrap function (feeding random subset of the data)\n",
        "def bootstrap_sample(X,y):\n",
        "    n_samples = X.shape[0]\n",
        "    idxs = np.random.choice(n_samples, size=n_samples, replace=True)\n",
        "\n",
        "    return X[idxs], y[idxs]\n",
        "\n",
        "# def most_common_label function\n",
        "def most_common_label(y):\n",
        "    counter = Counter(y)\n",
        "    most_common = counter.most_common(1)[0][0]\n",
        "\n",
        "    return most_common"
      ],
      "metadata": {
        "id": "BVVX0wdpHBpC"
      },
      "execution_count": null,
      "outputs": []
    },
    {
      "cell_type": "code",
      "source": [
        "# random forest code\n",
        "class RandomForest:\n",
        "    \n",
        "    def __init__(self, n_trees=100, min_samples_split=2, max_depth=100, n_feats=None):\n",
        "        self.n_trees = n_trees\n",
        "        self.min_samples_split = min_samples_split\n",
        "        self.max_depth = max_depth\n",
        "        self.n_feats = n_feats\n",
        "        self.trees = [] # store trees here\n",
        "\n",
        "    def fit(self, X, y):\n",
        "        self.tress = []\n",
        "        for _ in range(self.n_trees):\n",
        "            tree = DecisionTree(\n",
        "                min_samples_split = self.min_samples_split,\n",
        "                max_depth = self.max_depth,\n",
        "                n_features = self.n_feats\n",
        "            )\n",
        "\n",
        "            # pass random subset of data to a tree\n",
        "            X_sample, y_sample = bootstrap_sample(X, y)\n",
        "            tree.fit(X_sample, y_sample)\n",
        "            self.trees.append(tree)\n",
        "\n",
        "    def predict(self, X):\n",
        "        tree_preds = np.array([tree.predict(X) for tree in self.trees])\n",
        "        # to get corresponding predictions of earch tree we need to...\n",
        "        # ... swap axis in the array\n",
        "        tree_preds = np.swapaxes(tree_preds, 0, 1)\n",
        "        y_pred = [most_common_label(tree_pred) for tree_pred in tree_preds]\n",
        "\n",
        "        return np.array(y_pred)\n",
        "\n"
      ],
      "metadata": {
        "id": "HOonkHGygj8g"
      },
      "execution_count": null,
      "outputs": []
    },
    {
      "cell_type": "code",
      "source": [
        "# testing the class\n",
        "from sklearn import datasets\n",
        "from sklearn.model_selection import train_test_split\n",
        "import numpy as np\n",
        "\n",
        "# load breast cancer dataset\n",
        "data = datasets.load_breast_cancer()\n",
        "X, y = data.data, data.target\n",
        "\n",
        "# train, test split\n",
        "X_train, X_test, y_train, y_test = train_test_split(\n",
        "    X, y, test_size=0.2, random_state=1234\n",
        ")\n",
        "\n",
        "# get our decision tree\n",
        "clf = RandomForest(n_trees = 3)\n",
        "clf.fit(X_train, y_train)\n",
        "predictions = clf.predict(X_test)\n",
        "\n",
        "def accuracy(y_test, y_pred):\n",
        "    return np.sum(y_test == y_pred) / len(y_test)\n",
        "\n",
        "acc = accuracy(y_test, predictions)\n",
        "print(acc)"
      ],
      "metadata": {
        "colab": {
          "base_uri": "https://localhost:8080/"
        },
        "id": "i-egnI7PGm1M",
        "outputId": "3371e413-691a-47ad-9fb5-75f6904dcd1f"
      },
      "execution_count": null,
      "outputs": [
        {
          "output_type": "stream",
          "name": "stdout",
          "text": [
            "0.9298245614035088\n"
          ]
        }
      ]
    },
    {
      "cell_type": "code",
      "source": [],
      "metadata": {
        "id": "GwF3V-3YPPPE"
      },
      "execution_count": null,
      "outputs": []
    }
  ]
}